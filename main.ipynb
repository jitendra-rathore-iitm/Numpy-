{
 "cells": [
  {
   "cell_type": "markdown",
   "id": "f78b7a57",
   "metadata": {},
   "source": [
    "Numpy"
   ]
  },
  {
   "cell_type": "markdown",
   "id": "b1ec5740",
   "metadata": {},
   "source": [
    "In this jupiter notebook i'll tell you how Numpy works in python"
   ]
  },
  {
   "cell_type": "code",
   "execution_count": 1,
   "id": "8e588234",
   "metadata": {},
   "outputs": [
    {
     "name": "stdout",
     "output_type": "stream",
     "text": [
      "Hello World!\n"
     ]
    }
   ],
   "source": [
    "print(\"Hello World!\")"
   ]
  },
  {
   "cell_type": "code",
   "execution_count": null,
   "id": "d1ec24a4",
   "metadata": {},
   "outputs": [],
   "source": []
  }
 ],
 "metadata": {
  "kernelspec": {
   "display_name": "Python 3",
   "language": "python",
   "name": "python3"
  },
  "language_info": {
   "codemirror_mode": {
    "name": "ipython",
    "version": 3
   },
   "file_extension": ".py",
   "mimetype": "text/x-python",
   "name": "python",
   "nbconvert_exporter": "python",
   "pygments_lexer": "ipython3",
   "version": "3.13.3"
  }
 },
 "nbformat": 4,
 "nbformat_minor": 5
}
