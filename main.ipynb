{
 "cells": [
  {
   "cell_type": "markdown",
   "id": "f78b7a57",
   "metadata": {},
   "source": [
    "Numpy"
   ]
  },
  {
   "cell_type": "markdown",
   "id": "b1ec5740",
   "metadata": {},
   "source": [
    "In this jupiter notebook i'll tell you how Numpy works in python"
   ]
  },
  {
   "cell_type": "code",
   "execution_count": 2,
   "id": "8e588234",
   "metadata": {
    "jupyter": {
     "is_executing": true
    }
   },
   "outputs": [],
   "source": [
    "import numpy as np"
   ]
  },
  {
   "cell_type": "markdown",
   "id": "d1ec24a4",
   "metadata": {},
   "source": [
    "### numpy array"
   ]
  },
  {
   "cell_type": "code",
   "execution_count": 5,
   "id": "26290f2b",
   "metadata": {},
   "outputs": [
    {
     "name": "stdout",
     "output_type": "stream",
     "text": [
      "Numpy 1D array:  [1 2 3]\n",
      "Numpy 2D array:  [[1 2 3]\n",
      " [4 5 6]]\n"
     ]
    }
   ],
   "source": [
    "arr_1D = np.array([1, 2, 3])\n",
    "print(\"Numpy 1D array: \", arr_1D )\n",
    "\n",
    "arr_2D = np.array([[1, 2, 3], [4, 5, 6]])\n",
    "print(\"Numpy 2D array: \", arr_2D)"
   ]
  },
  {
   "cell_type": "code",
   "execution_count": 6,
   "id": "150eaff8",
   "metadata": {},
   "outputs": [
    {
     "name": "stdout",
     "output_type": "stream",
     "text": [
      "Python list [1, 2, 3, 1, 2, 3]\n",
      "Numpy array [2 4 6]\n"
     ]
    }
   ],
   "source": [
    "py_list = [1, 2, 3]\n",
    "print(\"Python list\",py_list * 2)\n",
    "\n",
    "numpy_arr = np.array([1, 2, 3])\n",
    "print(\"Numpy array\",numpy_arr * 2)"
   ]
  },
  {
   "cell_type": "markdown",
   "id": "2f13a383",
   "metadata": {},
   "source": [
    "### Difference between python list and python array"
   ]
  },
  {
   "cell_type": "code",
   "execution_count": 3,
   "id": "c620a050",
   "metadata": {},
   "outputs": [
    {
     "name": "stdout",
     "output_type": "stream",
     "text": [
      " \n",
      " Python list Operaional time:  0.001615762710571289\n",
      " \n",
      " Python array Operational time:  0.0007586479187011719\n"
     ]
    }
   ],
   "source": [
    "import time\n",
    "start = time.time()\n",
    "py_list = [i *2 for i in range(10000)]\n",
    "print(\" \\n Python list Operaional time: \", time.time()-start)\n",
    "\n",
    "start = time.time()\n",
    "numpy_arr = np.arange(10000)*2\n",
    "print(\" \\n Python array Operational time: \", time.time()-start)"
   ]
  },
  {
   "cell_type": "code",
   "execution_count": null,
   "id": "d2a29192",
   "metadata": {},
   "outputs": [],
   "source": []
  }
 ],
 "metadata": {
  "kernelspec": {
   "display_name": ".venv",
   "language": "python",
   "name": "python3"
  },
  "language_info": {
   "codemirror_mode": {
    "name": "ipython",
    "version": 3
   },
   "file_extension": ".py",
   "mimetype": "text/x-python",
   "name": "python",
   "nbconvert_exporter": "python",
   "pygments_lexer": "ipython3",
   "version": "3.13.3"
  }
 },
 "nbformat": 4,
 "nbformat_minor": 5
}
