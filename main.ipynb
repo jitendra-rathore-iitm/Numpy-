{
 "cells": [
  {
   "cell_type": "markdown",
   "id": "f78b7a57",
   "metadata": {},
   "source": [
    "Numpy"
   ]
  },
  {
   "cell_type": "markdown",
   "id": "b1ec5740",
   "metadata": {},
   "source": [
    "In this jupiter notebook i'll tell you how Numpy works in python"
   ]
  },
  {
   "cell_type": "code",
   "execution_count": 2,
   "id": "8e588234",
   "metadata": {
    "jupyter": {
     "is_executing": true
    }
   },
   "outputs": [],
   "source": [
    "import numpy as np"
   ]
  },
  {
   "cell_type": "markdown",
   "id": "d1ec24a4",
   "metadata": {},
   "source": [
    "### numpy array"
   ]
  },
  {
   "cell_type": "code",
   "execution_count": 40,
   "id": "26290f2b",
   "metadata": {},
   "outputs": [
    {
     "name": "stdout",
     "output_type": "stream",
     "text": [
      "Numpy 1D array: \n",
      " [1 2 3]\n",
      "Numpy 2D array: \n",
      " [[1 2 3]\n",
      " [4 5 6]]\n"
     ]
    }
   ],
   "source": [
    "arr_1D = np.array([1, 2, 3])\n",
    "print(\"Numpy 1D array: \\n\", arr_1D )\n",
    "\n",
    "arr_2D = np.array([[1, 2, 3], [4, 5, 6]])\n",
    "print(\"Numpy 2D array: \\n\", arr_2D)"
   ]
  },
  {
   "cell_type": "code",
   "execution_count": 6,
   "id": "150eaff8",
   "metadata": {},
   "outputs": [
    {
     "name": "stdout",
     "output_type": "stream",
     "text": [
      "Python list [1, 2, 3, 1, 2, 3]\n",
      "Numpy array [2 4 6]\n"
     ]
    }
   ],
   "source": [
    "py_list = [1, 2, 3]\n",
    "print(\"Python list\",py_list * 2)\n",
    "\n",
    "numpy_arr = np.array([1, 2, 3])\n",
    "print(\"Numpy array\",numpy_arr * 2)"
   ]
  },
  {
   "cell_type": "markdown",
   "id": "2f13a383",
   "metadata": {},
   "source": [
    "### Difference between python list and python array"
   ]
  },
  {
   "cell_type": "code",
   "execution_count": 35,
   "id": "c620a050",
   "metadata": {},
   "outputs": [
    {
     "name": "stdout",
     "output_type": "stream",
     "text": [
      " \n",
      " Python list Operaional time:  0.2448885440826416\n",
      " \n",
      " Python array Operational time:  0.011539697647094727\n"
     ]
    }
   ],
   "source": [
    "import time\n",
    "start = time.time()\n",
    "py_list = [i *2 for i in range(1000000)]\n",
    "print(\" \\n Python list Operaional time: \", time.time()-start)\n",
    "\n",
    "start = time.time()\n",
    "numpy_arr = np.arange(1000000)*2\n",
    "print(\" \\n Python array Operational time: \", time.time()-start)"
   ]
  },
  {
   "cell_type": "code",
   "execution_count": 36,
   "id": "d2a29192",
   "metadata": {},
   "outputs": [
    {
     "name": "stdout",
     "output_type": "stream",
     "text": [
      "Zeros of Array: \n",
      " [[0. 0. 0. 0. 0.]\n",
      " [0. 0. 0. 0. 0.]\n",
      " [0. 0. 0. 0. 0.]]\n"
     ]
    }
   ],
   "source": [
    "zeros = np.zeros((3,5))\n",
    "print(\"Zeros of Array: \\n\", zeros)"
   ]
  },
  {
   "cell_type": "code",
   "execution_count": 37,
   "id": "76994776",
   "metadata": {},
   "outputs": [
    {
     "name": "stdout",
     "output_type": "stream",
     "text": [
      "Once of array: \n",
      " [[1. 1. 1. 1.]\n",
      " [1. 1. 1. 1.]\n",
      " [1. 1. 1. 1.]]\n"
     ]
    }
   ],
   "source": [
    "once = np.ones((3,4))\n",
    "print(\"Once of array: \\n\", once)"
   ]
  },
  {
   "cell_type": "markdown",
   "id": "c7808e43",
   "metadata": {},
   "source": [
    "### Custom Array"
   ]
  },
  {
   "cell_type": "code",
   "execution_count": 39,
   "id": "80bf70b8",
   "metadata": {},
   "outputs": [
    {
     "name": "stdout",
     "output_type": "stream",
     "text": [
      "Full array: \n",
      " [[5 5 5 5]\n",
      " [5 5 5 5]]\n"
     ]
    }
   ],
   "source": [
    "full = np.full((2,4), 5)\n",
    "print(\"Full array: \\n\", full)"
   ]
  },
  {
   "cell_type": "markdown",
   "id": "7dcbcc1c",
   "metadata": {},
   "source": [
    "Random array"
   ]
  },
  {
   "cell_type": "code",
   "execution_count": 52,
   "id": "c1682d72",
   "metadata": {},
   "outputs": [
    {
     "name": "stdout",
     "output_type": "stream",
     "text": [
      "[[0.17561372 0.01868398 0.66636167]\n",
      " [0.10778269 0.42444893 0.47868104]]\n"
     ]
    }
   ],
   "source": [
    "random_arr = np.random.random((2,3))\n",
    "print(random_arr)"
   ]
  },
  {
   "cell_type": "code",
   "execution_count": 54,
   "id": "e1f0bf6b",
   "metadata": {},
   "outputs": [
    {
     "name": "stdout",
     "output_type": "stream",
     "text": [
      "Sequence array: \n",
      " [1 3 5 7 9]\n"
     ]
    }
   ],
   "source": [
    "\n",
    "sequence_array = np.arange(1, 11, 2)\n",
    "print(\"Sequence array: \\n\", sequence_array)"
   ]
  },
  {
   "cell_type": "markdown",
   "id": "5d379f8a",
   "metadata": {},
   "source": [
    "### Vector, Matrix and tensor"
   ]
  },
  {
   "cell_type": "code",
   "execution_count": 90,
   "id": "62ba951c",
   "metadata": {},
   "outputs": [
    {
     "name": "stdout",
     "output_type": "stream",
     "text": [
      "Vector \n",
      " [1 3 8]\n",
      "\n",
      " Matrix \n",
      " [[1 2 3]\n",
      " [4 8 3]]\n",
      "\n",
      " Tensor \n",
      " [[[1 7]\n",
      "  [8 4]]\n",
      "\n",
      " [[2 6]\n",
      "  [7 3]]]\n"
     ]
    }
   ],
   "source": [
    "vector = np.array([1, 3, 8])\n",
    "print(\"Vector \\n\", vector)\n",
    "\n",
    "matrix = np.array([[1, 2, 3],\n",
    "                   [4, 8, 3]])\n",
    "print(\"\\n Matrix \\n\", matrix)\n",
    "\n",
    "\n",
    "tensor = np.array([[[1, 7],[ 8, 4]],\n",
    "                   [[2, 6], [7, 3]]])\n",
    "print(\"\\n Tensor \\n\", tensor)\n",
    "\n"
   ]
  },
  {
   "cell_type": "markdown",
   "id": "d5714e32",
   "metadata": {},
   "source": [
    "### Numpy Properties"
   ]
  },
  {
   "cell_type": "code",
   "execution_count": 74,
   "id": "9386e419",
   "metadata": {},
   "outputs": [
    {
     "name": "stdout",
     "output_type": "stream",
     "text": [
      "Array: \n",
      " [[1 5 9]\n",
      " [3 7 9]\n",
      " [4 7 2]]\n",
      "Shape:  (3, 3)\n",
      "Dimention 2\n",
      "Size (Number of elements) 9\n",
      "Data Type int64\n"
     ]
    }
   ],
   "source": [
    "arr = np.array([[1, 5, 9],\n",
    "                [3, 7, 9],\n",
    "                [4, 7, 2]])\n",
    "print(\"Array: \\n\", arr)\n",
    "print(\"Shape: \", arr.shape)\n",
    "print(\"Dimention\", arr.ndim)\n",
    "print(\"Size (Number of elements)\", arr.size)\n",
    "print(\"Data Type\", arr.dtype)"
   ]
  },
  {
   "cell_type": "markdown",
   "id": "515521d4",
   "metadata": {},
   "source": [
    "Reshape of Array"
   ]
  },
  {
   "cell_type": "code",
   "execution_count": 105,
   "id": "3b9f38bf",
   "metadata": {},
   "outputs": [
    {
     "name": "stdout",
     "output_type": "stream",
     "text": [
      "Array: \n",
      " [ 0  1  2  3  4  5  6  7  8  9 10 11]\n",
      "\n",
      " Reshaped array \n",
      " [[ 0  1  2]\n",
      " [ 3  4  5]\n",
      " [ 6  7  8]\n",
      " [ 9 10 11]]\n",
      "\n",
      " Tranposed array: \n",
      " [[ 0  3  6  9]\n",
      " [ 1  4  7 10]\n",
      " [ 2  5  8 11]]\n",
      "\n",
      " Flattened Array:  [ 0  1  2  3  4  5  6  7  8  9 10 11]\n",
      "[ 0  1  2  3  4  5  6  7  8  9 10 11]\n",
      "\n",
      " Raveled Array:  [ 0  1  2  3  4  5  6  7  8  9 10 11]\n",
      "[200   1   2   3   4   5   6   7   8   9  10  11]\n"
     ]
    }
   ],
   "source": [
    "arr = np.arange(12)\n",
    "print(\"Array: \\n\", arr)\n",
    "\n",
    "\n",
    "reshaped = arr.reshape((4, 3))\n",
    "print(\"\\n Reshaped array \\n\", reshaped)\n",
    "\n",
    "transposed = reshaped.T\n",
    "print(\"\\n Tranposed array: \\n\", transposed)\n",
    "\n",
    "flattened = reshaped.flatten()\n",
    "print(\"\\n Flattened Array: \", flattened)\n",
    "#For checking\n",
    "flattened[0] = 100\n",
    "print(arr)\n",
    "\n",
    "# Ravel(returns View Instead of Copy)\n",
    "raveled = reshaped.ravel()\n",
    "print(\"\\n Raveled Array: \", raveled)\n",
    "#For checking\n",
    "raveled[0] = 200\n",
    "print(arr)\n"
   ]
  },
  {
   "cell_type": "markdown",
   "id": "d066cb2c",
   "metadata": {},
   "source": [
    "### Numpy array opertaions"
   ]
  },
  {
   "cell_type": "code",
   "execution_count": 132,
   "id": "13394d03",
   "metadata": {},
   "outputs": [
    {
     "name": "stdout",
     "output_type": "stream",
     "text": [
      "Array: \n",
      " [[ 1  5  7]\n",
      " [ 4  8 10]\n",
      " [ 5  9  3]]\n",
      "\n",
      " Dimention of that array:  2\n",
      "\n",
      " Specific Element:  8\n",
      "\n",
      " Specific Row of that Array:  [ 4  8 10]\n",
      "\n",
      " Specific Column of that array which shows in row:  [ 7 10  3]\n",
      "\n",
      " Tranpose of that array \n",
      " [[ 1  4  5]\n",
      " [ 5  8  9]\n",
      " [ 7 10  3]]\n"
     ]
    }
   ],
   "source": [
    "\n",
    "arr = np.array([[1, 5, 7],\n",
    "                [4, 8, 10],\n",
    "                [5, 9, 3]])\n",
    "print(\"Array: \\n\", arr)\n",
    "print(\"\\n Dimention of that array: \", arr.ndim)\n",
    "\n",
    "\n",
    "print(\"\\n Specific Element: \", arr[1, 1])\n",
    "print(\"\\n Specific Row of that Array: \", arr[1])\n",
    "print(\"\\n Specific Column of that array which shows in row: \",arr[:, 2] )\n",
    "print(\"\\n Tranpose of that array \\n\", arr.T)\n"
   ]
  },
  {
   "cell_type": "markdown",
   "id": "48d889c8",
   "metadata": {},
   "source": [
    "### Slicing of array"
   ]
  },
  {
   "cell_type": "code",
   "execution_count": 140,
   "id": "093ae2c7",
   "metadata": {},
   "outputs": [
    {
     "name": "stdout",
     "output_type": "stream",
     "text": [
      "\n",
      " Array:  [ 1  2  3  4  5  6  7  8  9 10]\n",
      "\n",
      " Basic slicing:  [5 6 7]\n",
      "\n",
      " With Step:  [ 2  4  6  8 10]\n",
      "\n",
      " negative slicing:  [ 7  8  9 10]\n"
     ]
    }
   ],
   "source": [
    "arr = np.arange(1, 11)\n",
    "print(\"\\n Array: \",arr)\n",
    "print(\"\\n Basic slicing: \",arr[4:7])\n",
    "print(\"\\n With Step: \", arr[1::2])\n",
    "print(\"\\n negative slicing: \", arr[-4: ])\n"
   ]
  },
  {
   "cell_type": "markdown",
   "id": "f381025e",
   "metadata": {},
   "source": [
    "### Sorted array"
   ]
  },
  {
   "cell_type": "code",
   "execution_count": 144,
   "id": "794b76b1",
   "metadata": {},
   "outputs": [
    {
     "name": "stdout",
     "output_type": "stream",
     "text": [
      "Sorted Array:  [ 1  1  3  3  5  7  7  8  9 10]\n",
      "\n",
      " Sorted 2D Array by Column: \n",
      " [[1 0 2]\n",
      " [4 4 3]\n",
      " [5 7 4]\n",
      " [6 9 8]]\n",
      "\n",
      " Sorted 2D Array by rows \n",
      " [[1 4 8]\n",
      " [2 5 7]\n",
      " [4 4 9]\n",
      " [0 3 6]]\n"
     ]
    }
   ],
   "source": [
    "unsorted_arr = np.array([1, 7, 5, 3, 1, 8, 10, 3, 7, 9])\n",
    "print(\"Sorted Array: \", np.sort(unsorted_arr))\n",
    "\n",
    "unsorted_2D_array = np.array([[1, 4, 8],\n",
    "                              [5, 7, 2],\n",
    "                              [4, 9, 4],\n",
    "                              [6, 0, 3]])\n",
    "print(\"\\n Sorted 2D Array by Column: \\n\", np.sort(unsorted_2D_array, axis = 0))\n",
    "print(\"\\n Sorted 2D Array by rows \\n\", np.sort(unsorted_2D_array, axis = 1) )"
   ]
  },
  {
   "cell_type": "markdown",
   "id": "0097e61d",
   "metadata": {},
   "source": [
    "## Filter"
   ]
  },
  {
   "cell_type": "code",
   "execution_count": 8,
   "id": "2cb8b4f8",
   "metadata": {},
   "outputs": [
    {
     "name": "stdout",
     "output_type": "stream",
     "text": [
      "Even numbers Array:  [ 2  4  6  8 10]\n",
      "Array numbers greater than 5:  [ 6  7  8  9 10]\n"
     ]
    }
   ],
   "source": [
    "arr = np.array([1, 2, 3, 4, 5, 6, 7, 8, 9, 10])\n",
    "even_numbers = arr[arr % 2 == 0]\n",
    "print(\"Even numbers Array: \",even_numbers)\n",
    "\n",
    "mask = arr > 5\n",
    "print(\"Array numbers greater than 5: \",arr[mask])"
   ]
  },
  {
   "cell_type": "code",
   "execution_count": 11,
   "id": "b15c51a6",
   "metadata": {},
   "outputs": [
    {
     "name": "stdout",
     "output_type": "stream",
     "text": [
      "[1 6 8]\n",
      "(array([5, 6, 7, 8, 9]),)\n",
      "[ 6  7  8  9 10]\n"
     ]
    }
   ],
   "source": [
    "\n",
    "indices = [0, 5, 7]\n",
    "print(arr[indices])\n",
    "\n",
    "where_result = np.where(arr > 5)\n",
    "print(where_result)\n",
    "print(arr[where_result])"
   ]
  },
  {
   "cell_type": "code",
   "execution_count": 13,
   "id": "8092652c",
   "metadata": {},
   "outputs": [
    {
     "name": "stdout",
     "output_type": "stream",
     "text": [
      "Conditional Array:  [ 1  2  3  4  5 12 14 16 18 20]\n"
     ]
    }
   ],
   "source": [
    "conditional_array = np.where(arr > 5, arr * 2, arr)\n",
    "print(\"Conditional Array: \", conditional_array)"
   ]
  },
  {
   "cell_type": "code",
   "execution_count": null,
   "id": "1d664943",
   "metadata": {},
   "outputs": [],
   "source": []
  }
 ],
 "metadata": {
  "kernelspec": {
   "display_name": "venv",
   "language": "python",
   "name": "python3"
  },
  "language_info": {
   "codemirror_mode": {
    "name": "ipython",
    "version": 3
   },
   "file_extension": ".py",
   "mimetype": "text/x-python",
   "name": "python",
   "nbconvert_exporter": "python",
   "pygments_lexer": "ipython3",
   "version": "3.13.3"
  }
 },
 "nbformat": 4,
 "nbformat_minor": 5
}
